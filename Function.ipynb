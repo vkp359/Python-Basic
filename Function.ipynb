{
 "cells": [
  {
   "cell_type": "markdown",
   "metadata": {},
   "source": [
    "# Create a function that can accept two arguments name and age and print its value"
   ]
  },
  {
   "cell_type": "code",
   "execution_count": 13,
   "metadata": {},
   "outputs": [],
   "source": [
    "def my_function(name,age):\n",
    "    print(\"My Name is \",name , \"and my age is \",age)"
   ]
  },
  {
   "cell_type": "code",
   "execution_count": 14,
   "metadata": {},
   "outputs": [
    {
     "name": "stdout",
     "output_type": "stream",
     "text": [
      "My Name is  vivek and my age is  24\n"
     ]
    }
   ],
   "source": [
    "my_function(\"vivek\",24)"
   ]
  },
  {
   "cell_type": "markdown",
   "metadata": {},
   "source": [
    "# Write a function func1() such that it can accept a variable length of  argument and print all arguments value"
   ]
  },
  {
   "cell_type": "code",
   "execution_count": 17,
   "metadata": {},
   "outputs": [],
   "source": [
    "def func1(*args):\n",
    "    for i in args:\n",
    "        print(i)"
   ]
  },
  {
   "cell_type": "code",
   "execution_count": 18,
   "metadata": {},
   "outputs": [
    {
     "name": "stdout",
     "output_type": "stream",
     "text": [
      "20\n",
      "40\n",
      "60\n"
     ]
    }
   ],
   "source": [
    "func1(20,40,60)"
   ]
  },
  {
   "cell_type": "code",
   "execution_count": 19,
   "metadata": {},
   "outputs": [
    {
     "name": "stdout",
     "output_type": "stream",
     "text": [
      "80\n",
      "100\n"
     ]
    }
   ],
   "source": [
    "func1(80,100)"
   ]
  },
  {
   "cell_type": "markdown",
   "metadata": {},
   "source": [
    "# Write a function calculation() such that it can accept two variables and calculate the addition and subtraction of it. And also it must return both addition and subtraction in a single return call"
   ]
  },
  {
   "cell_type": "code",
   "execution_count": 20,
   "metadata": {},
   "outputs": [],
   "source": [
    "def calculation(a,b):\n",
    "    print(a+b)\n",
    "    print(a-b)"
   ]
  },
  {
   "cell_type": "code",
   "execution_count": 21,
   "metadata": {},
   "outputs": [
    {
     "name": "stdout",
     "output_type": "stream",
     "text": [
      "50\n",
      "30\n",
      "None\n"
     ]
    }
   ],
   "source": [
    "res = calculation(40,10)\n",
    "print(res)"
   ]
  },
  {
   "cell_type": "code",
   "execution_count": 22,
   "metadata": {},
   "outputs": [],
   "source": [
    "def calculation1(a,b):\n",
    "    return a+b,a-b"
   ]
  },
  {
   "cell_type": "code",
   "execution_count": 23,
   "metadata": {},
   "outputs": [
    {
     "name": "stdout",
     "output_type": "stream",
     "text": [
      "(50, 30)\n"
     ]
    }
   ],
   "source": [
    "res = calculation1(40,10)\n",
    "print(res)"
   ]
  },
  {
   "cell_type": "markdown",
   "metadata": {},
   "source": [
    "- we can return multiple values from a function"
   ]
  },
  {
   "cell_type": "markdown",
   "metadata": {},
   "source": [
    "# Create a function showEmployee() in such a way that it should accept employee name, and it’s salary and display both, and if the salary is missing in function call it should show it as 9000"
   ]
  },
  {
   "cell_type": "code",
   "execution_count": 24,
   "metadata": {},
   "outputs": [],
   "source": [
    "def showEmployee(name,salary=9000):\n",
    "    print(\"Employee\",name ,\"salary is\",salary)"
   ]
  },
  {
   "cell_type": "code",
   "execution_count": 25,
   "metadata": {},
   "outputs": [
    {
     "name": "stdout",
     "output_type": "stream",
     "text": [
      "Employee Vivek salary is 9000\n"
     ]
    }
   ],
   "source": [
    "showEmployee(\"Vivek\",9000)"
   ]
  },
  {
   "cell_type": "code",
   "execution_count": 26,
   "metadata": {},
   "outputs": [
    {
     "name": "stdout",
     "output_type": "stream",
     "text": [
      "Employee Vivek salary is 9000\n"
     ]
    }
   ],
   "source": [
    "showEmployee(\"Vivek\")"
   ]
  },
  {
   "cell_type": "markdown",
   "metadata": {},
   "source": [
    "# Create an inner function to calculate the addition in the following way\n",
    "- Create an outer function that will accept two parameters a and b\n",
    "- Create an inner function inside an outer function that will calculate the addition of a and b\n",
    "- At last, an outer function will add 5 into addition and return it"
   ]
  },
  {
   "cell_type": "code",
   "execution_count": 27,
   "metadata": {},
   "outputs": [],
   "source": [
    "def outer_function(a,b):\n",
    "    square = a**2\n",
    "    def inner_function(a,b):\n",
    "        return a+b\n",
    "    add = inner_function(a,b)\n",
    "    return add+5"
   ]
  },
  {
   "cell_type": "code",
   "execution_count": 29,
   "metadata": {},
   "outputs": [
    {
     "name": "stdout",
     "output_type": "stream",
     "text": [
      "20\n"
     ]
    }
   ],
   "source": [
    "result = outer_function(5,10)\n",
    "print(result)"
   ]
  },
  {
   "cell_type": "markdown",
   "metadata": {},
   "source": [
    "# Write a recursive function to calculate the sum of numbers from 0 to 10"
   ]
  },
  {
   "cell_type": "code",
   "execution_count": 33,
   "metadata": {},
   "outputs": [],
   "source": [
    "def recursive_function(k):\n",
    "    if k:\n",
    "        return k + recursive_function(k-1)\n",
    "    else:\n",
    "        return 0"
   ]
  },
  {
   "cell_type": "code",
   "execution_count": 34,
   "metadata": {},
   "outputs": [
    {
     "data": {
      "text/plain": [
       "55"
      ]
     },
     "execution_count": 34,
     "metadata": {},
     "output_type": "execute_result"
    }
   ],
   "source": [
    "recursive_function(10)"
   ]
  },
  {
   "cell_type": "markdown",
   "metadata": {},
   "source": [
    "# Assign a different name to function and call it through the new name"
   ]
  },
  {
   "cell_type": "code",
   "execution_count": 38,
   "metadata": {},
   "outputs": [],
   "source": [
    "def student_fun(name,age):\n",
    "    print(name,age)\n",
    "    \n",
    "show_fun = student_fun    "
   ]
  },
  {
   "cell_type": "code",
   "execution_count": 40,
   "metadata": {},
   "outputs": [
    {
     "name": "stdout",
     "output_type": "stream",
     "text": [
      "Vivek 24\n"
     ]
    }
   ],
   "source": [
    "student_fun(\"Vivek\",24)"
   ]
  },
  {
   "cell_type": "code",
   "execution_count": 41,
   "metadata": {},
   "outputs": [
    {
     "name": "stdout",
     "output_type": "stream",
     "text": [
      "Vivek 24\n"
     ]
    }
   ],
   "source": [
    "show_fun(\"Vivek\",24)"
   ]
  },
  {
   "cell_type": "markdown",
   "metadata": {},
   "source": [
    "# Generate a Python list of all the even numbers between 4 to 30"
   ]
  },
  {
   "cell_type": "code",
   "execution_count": 48,
   "metadata": {},
   "outputs": [],
   "source": [
    "def even_func():\n",
    "    L = list() # empty list\n",
    "    for num in range(4,30):\n",
    "        if num % 2 == 0:\n",
    "            L.append(num)\n",
    "    return L    "
   ]
  },
  {
   "cell_type": "code",
   "execution_count": 49,
   "metadata": {},
   "outputs": [
    {
     "data": {
      "text/plain": [
       "[4, 6, 8, 10, 12, 14, 16, 18, 20, 22, 24, 26, 28]"
      ]
     },
     "execution_count": 49,
     "metadata": {},
     "output_type": "execute_result"
    }
   ],
   "source": [
    "even_func()"
   ]
  },
  {
   "cell_type": "code",
   "execution_count": 50,
   "metadata": {},
   "outputs": [
    {
     "name": "stdout",
     "output_type": "stream",
     "text": [
      "[4, 6, 8, 10, 12, 14, 16, 18, 20, 22, 24, 26, 28]\n"
     ]
    }
   ],
   "source": [
    "print(list(range(4,30,2)))"
   ]
  },
  {
   "cell_type": "code",
   "execution_count": 1,
   "metadata": {},
   "outputs": [
    {
     "data": {
      "text/plain": [
       "[4, 6, 8, 10, 12, 14, 16, 18, 20, 22, 24, 26, 28]"
      ]
     },
     "execution_count": 1,
     "metadata": {},
     "output_type": "execute_result"
    }
   ],
   "source": [
    "def even():\n",
    "    L = list(range(4,30,2))\n",
    "    return L\n",
    "\n",
    "even()"
   ]
  },
  {
   "cell_type": "markdown",
   "metadata": {},
   "source": [
    "# Return the largest item from the given list\n",
    "- aList = [4, 6, 8, 24, 12, 2]"
   ]
  },
  {
   "cell_type": "markdown",
   "metadata": {},
   "source": [
    "## Finding largest number in a list using max() method"
   ]
  },
  {
   "cell_type": "code",
   "execution_count": 66,
   "metadata": {},
   "outputs": [
    {
     "name": "stdout",
     "output_type": "stream",
     "text": [
      "24\n"
     ]
    }
   ],
   "source": [
    "alist = [4, 6, 8, 24, 12, 2]\n",
    "print(max(alist))"
   ]
  },
  {
   "cell_type": "code",
   "execution_count": 68,
   "metadata": {},
   "outputs": [
    {
     "name": "stdout",
     "output_type": "stream",
     "text": [
      "Largest number of the list is: 24\n"
     ]
    }
   ],
   "source": [
    "print(\"Largest number of the list is:\", max(alist))"
   ]
  },
  {
   "cell_type": "markdown",
   "metadata": {},
   "source": [
    "## Finding largest number in a list using sort() method"
   ]
  },
  {
   "cell_type": "code",
   "execution_count": 67,
   "metadata": {},
   "outputs": [
    {
     "name": "stdout",
     "output_type": "stream",
     "text": [
      "Largest number in the list is: 24\n"
     ]
    }
   ],
   "source": [
    "alist = [4, 6, 8, 24, 12, 2]\n",
    "alist.sort()\n",
    "print(\"Largest number in the list is:\", alist[-1])"
   ]
  },
  {
   "cell_type": "markdown",
   "metadata": {},
   "source": [
    "##  Finding largest number in a list, where list is provided by user"
   ]
  },
  {
   "cell_type": "code",
   "execution_count": 70,
   "metadata": {},
   "outputs": [
    {
     "name": "stdout",
     "output_type": "stream",
     "text": [
      "How many number?6\n",
      "Enter Number :4\n",
      "Enter Number :6\n",
      "Enter Number :8\n",
      "Enter Number :24\n",
      "Enter Number :12\n",
      "Enter Number :2\n",
      "Larest element of the list is : 24\n"
     ]
    }
   ],
   "source": [
    "# Create a empty list\n",
    "list = []\n",
    "\n",
    "# user enters the number of elements to put in list\n",
    "count = int(input(\"How many number?\"))\n",
    "\n",
    "# iterating till count to append all input elements in list\n",
    "for n in range(count):\n",
    "    number = int(input(\"Enter Number :\"))\n",
    "    list.append(number)\n",
    "    \n",
    "# display the number\n",
    "print(\"Larest element of the list is :\",max(list))"
   ]
  },
  {
   "cell_type": "markdown",
   "metadata": {},
   "source": [
    "# Python Program to find Smallest number in a list"
   ]
  },
  {
   "cell_type": "code",
   "execution_count": 71,
   "metadata": {},
   "outputs": [
    {
     "name": "stdout",
     "output_type": "stream",
     "text": [
      "How many number?6\n",
      "Enter Number:4\n",
      "Enter Number:6\n",
      "Enter Number:8\n",
      "Enter Number:24\n",
      "Enter Number:12\n",
      "Enter Number:2\n",
      "Smallest Nunmber of the list is: 2\n"
     ]
    }
   ],
   "source": [
    "# Create a empty list\n",
    "list = []\n",
    "\n",
    "# user enter the number of elements to the put in list\n",
    "count = int(input(\"How many number?\"))\n",
    "\n",
    "# iterating till count to append all input element in list\n",
    "for num in range(count):\n",
    "    number = int(input(\"Enter Number:\"))\n",
    "    list.append(number)\n",
    "    \n",
    "# Show the smallest number of list\n",
    "print(\"Smallest Nunmber of the list is:\",min(list))"
   ]
  },
  {
   "cell_type": "markdown",
   "metadata": {},
   "source": [
    "# Python Program to Find Largest among Three Numbers"
   ]
  },
  {
   "cell_type": "code",
   "execution_count": 73,
   "metadata": {},
   "outputs": [
    {
     "name": "stdout",
     "output_type": "stream",
     "text": [
      "Enter Number:30\n",
      "Enter Number:90\n",
      "Enter Number:10\n",
      "The largest number among 30.0 , 90.0 and 10.0 is:  90.0\n"
     ]
    }
   ],
   "source": [
    "# Enter the Number \n",
    "num1 = float(input(\"Enter Number:\"))\n",
    "num2 = float(input(\"Enter Number:\"))\n",
    "num3 = float(input(\"Enter Number:\"))\n",
    "\n",
    "# Create the condition\n",
    "if (num1 >= num2) and (num1 >= num3):\n",
    "    lnum = num1\n",
    "elif (num2 >= num1) and (num2 >= num3):\n",
    "    lnum = num2\n",
    "else:\n",
    "    lnum = num3\n",
    "    \n",
    "print(\"The largest number among\",num1,\",\",num2,\"and\",num3,\"is: \",lnum)    "
   ]
  },
  {
   "cell_type": "markdown",
   "metadata": {},
   "source": [
    "# Celsius To Fahrenheit and Fahrenheit to Celsius conversion formulas\n",
    "- Celsius and Fahrenheit are the measurement units of Temperature. Let’s see the conversion formulas to convert temperature in degree Celsius to degree Fahrenheit and vice versa.\n",
    "\n",
    "<h3 align=\"center\">Celsius = (Fahrenheit – 32) * 5/9</h3><br>\n",
    "<h3 align=\"center\">Fahrenheit = (Celsius * 9/5) + 32</h3>"
   ]
  },
  {
   "cell_type": "code",
   "execution_count": 79,
   "metadata": {},
   "outputs": [
    {
     "name": "stdout",
     "output_type": "stream",
     "text": [
      "Enter temperature in celsius:88\n",
      "88.00 celsius is: 190.40 fahrenheit\n"
     ]
    }
   ],
   "source": [
    "celsius = float(input(\"Enter temperature in celsius:\"))\n",
    "fahrenheit = (celsius*9/5)+32\n",
    "print(\"%.2f celsius is: %0.2f fahrenheit\" %(celsius,fahrenheit))"
   ]
  },
  {
   "cell_type": "code",
   "execution_count": 80,
   "metadata": {},
   "outputs": [
    {
     "name": "stdout",
     "output_type": "stream",
     "text": [
      "Enter temperature in fahrenheit:55\n",
      "190.40 fahrenheit is: 88.00 celsius\n"
     ]
    }
   ],
   "source": [
    "celsius = float(input(\"Enter temperature in fahrenheit:\"))\n",
    "celsius= (fahrenheit-32)*5/9\n",
    "print(\"%.2f fahrenheit is: %0.2f celsius\" %(fahrenheit,celsius))"
   ]
  },
  {
   "cell_type": "markdown",
   "metadata": {},
   "source": [
    "# Python program to find second largest number in a list"
   ]
  },
  {
   "cell_type": "code",
   "execution_count": 2,
   "metadata": {},
   "outputs": [
    {
     "name": "stdout",
     "output_type": "stream",
     "text": [
      "Second Largest Number in the list is: 40\n"
     ]
    }
   ],
   "source": [
    "list = [20,10,40,90,30]\n",
    "list.sort()\n",
    "print(\"Second Largest Number in the list is:\",list[-2])"
   ]
  },
  {
   "cell_type": "code",
   "execution_count": null,
   "metadata": {},
   "outputs": [],
   "source": []
  }
 ],
 "metadata": {
  "kernelspec": {
   "display_name": "Python 3",
   "language": "python",
   "name": "python3"
  },
  "language_info": {
   "codemirror_mode": {
    "name": "ipython",
    "version": 3
   },
   "file_extension": ".py",
   "mimetype": "text/x-python",
   "name": "python",
   "nbconvert_exporter": "python",
   "pygments_lexer": "ipython3",
   "version": "3.8.3"
  },
  "toc": {
   "base_numbering": 1,
   "nav_menu": {},
   "number_sections": true,
   "sideBar": true,
   "skip_h1_title": false,
   "title_cell": "Table of Contents",
   "title_sidebar": "Contents",
   "toc_cell": false,
   "toc_position": {},
   "toc_section_display": true,
   "toc_window_display": false
  },
  "varInspector": {
   "cols": {
    "lenName": 16,
    "lenType": 16,
    "lenVar": 40
   },
   "kernels_config": {
    "python": {
     "delete_cmd_postfix": "",
     "delete_cmd_prefix": "del ",
     "library": "var_list.py",
     "varRefreshCmd": "print(var_dic_list())"
    },
    "r": {
     "delete_cmd_postfix": ") ",
     "delete_cmd_prefix": "rm(",
     "library": "var_list.r",
     "varRefreshCmd": "cat(var_dic_list()) "
    }
   },
   "types_to_exclude": [
    "module",
    "function",
    "builtin_function_or_method",
    "instance",
    "_Feature"
   ],
   "window_display": false
  }
 },
 "nbformat": 4,
 "nbformat_minor": 4
}
